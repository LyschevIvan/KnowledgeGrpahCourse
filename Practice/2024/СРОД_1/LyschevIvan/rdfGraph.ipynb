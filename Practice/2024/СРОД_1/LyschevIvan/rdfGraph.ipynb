{
  "nbformat": 4,
  "nbformat_minor": 0,
  "metadata": {
    "colab": {
      "provenance": []
    },
    "kernelspec": {
      "name": "python3",
      "display_name": "Python 3"
    },
    "language_info": {
      "name": "python"
    }
  },
  "cells": [
    {
      "cell_type": "code",
      "source": [
        "!pip install rdflib"
      ],
      "metadata": {
        "colab": {
          "base_uri": "https://localhost:8080/"
        },
        "id": "qBJIbWIVPkYx",
        "outputId": "30addb73-c582-49d3-fd57-e593cb2e1979"
      },
      "execution_count": 37,
      "outputs": [
        {
          "output_type": "stream",
          "name": "stdout",
          "text": [
            "Requirement already satisfied: rdflib in /usr/local/lib/python3.10/dist-packages (7.0.0)\n",
            "Requirement already satisfied: isodate<0.7.0,>=0.6.0 in /usr/local/lib/python3.10/dist-packages (from rdflib) (0.6.1)\n",
            "Requirement already satisfied: pyparsing<4,>=2.1.0 in /usr/local/lib/python3.10/dist-packages (from rdflib) (3.1.4)\n",
            "Requirement already satisfied: six in /usr/local/lib/python3.10/dist-packages (from isodate<0.7.0,>=0.6.0->rdflib) (1.16.0)\n"
          ]
        }
      ]
    },
    {
      "cell_type": "code",
      "execution_count": 38,
      "metadata": {
        "colab": {
          "base_uri": "https://localhost:8080/"
        },
        "id": "21q8UQ5xGeXc",
        "outputId": "f871c700-a04e-4bf8-c349-0afacbcce2d6"
      },
      "outputs": [
        {
          "output_type": "stream",
          "name": "stdout",
          "text": [
            "Drive already mounted at /content/drive/; to attempt to forcibly remount, call drive.mount(\"/content/drive/\", force_remount=True).\n"
          ]
        }
      ],
      "source": [
        "from google.colab import drive\n",
        "drive.mount('/content/drive/')\n",
        "path = '/content/drive/MyDrive/Структурирование и разметка данных'"
      ]
    },
    {
      "cell_type": "code",
      "source": [
        "from rdflib import Graph, Namespace, URIRef, Literal\n",
        "from rdflib.namespace import RDF, RDFS, OWL\n",
        "from urllib.parse import quote\n",
        "import os"
      ],
      "metadata": {
        "id": "nmwVhl_1PiFM"
      },
      "execution_count": 39,
      "outputs": []
    },
    {
      "cell_type": "code",
      "source": [
        "graph = Graph()\n",
        "graph.parse(path + \"/dogs.ttl\", format='turtle')\n",
        "graph"
      ],
      "metadata": {
        "colab": {
          "base_uri": "https://localhost:8080/"
        },
        "id": "scwLtxiWPn_i",
        "outputId": "6ce32165-9fa5-4344-c6d9-e6d1e2dfe0c2"
      },
      "execution_count": 40,
      "outputs": [
        {
          "output_type": "execute_result",
          "data": {
            "text/plain": [
              "<Graph identifier=N98781c9bf48c49b3b2bca70f81326bf0 (<class 'rdflib.graph.Graph'>)>"
            ]
          },
          "metadata": {},
          "execution_count": 40
        }
      ]
    },
    {
      "cell_type": "code",
      "source": [
        "print(graph.serialize(format='ttl'))"
      ],
      "metadata": {
        "colab": {
          "base_uri": "https://localhost:8080/"
        },
        "id": "cj0PwKZOT62d",
        "outputId": "359c7972-a09f-42cd-b704-70c496cbd761"
      },
      "execution_count": 41,
      "outputs": [
        {
          "output_type": "stream",
          "name": "stdout",
          "text": [
            "@prefix : <http://www.semanticweb.org/ivanlyschev/ontologies/2024/8/dogs/> .\n",
            "@prefix owl: <http://www.w3.org/2002/07/owl#> .\n",
            "@prefix rdf: <http://www.w3.org/1999/02/22-rdf-syntax-ns#> .\n",
            "@prefix rdfs: <http://www.w3.org/2000/01/rdf-schema#> .\n",
            "@prefix xsd: <http://www.w3.org/2001/XMLSchema#> .\n",
            "\n",
            "<http://www.semanticweb.org/ivanlyschev/ontologies/2024/8/dogs> a owl:Ontology .\n",
            "\n",
            ":Corgi a owl:Class ;\n",
            "    rdfs:subClassOf :Species .\n",
            "\n",
            ":Description a owl:DatatypeProperty ;\n",
            "    rdfs:domain :Image ;\n",
            "    rdfs:range rdf:PlainLiteral .\n",
            "\n",
            ":Doberman a owl:Class ;\n",
            "    rdfs:subClassOf :Species .\n",
            "\n",
            ":Labrador a owl:Class ;\n",
            "    rdfs:subClassOf :Species .\n",
            "\n",
            ":Pitbull a owl:Class ;\n",
            "    rdfs:subClassOf :Species .\n",
            "\n",
            ":Rottweiler a owl:Class ;\n",
            "    rdfs:subClassOf :Species .\n",
            "\n",
            ":Shepherd a owl:Class ;\n",
            "    rdfs:subClassOf :Species .\n",
            "\n",
            ":belongsToSpesies a owl:ObjectProperty ;\n",
            "    rdfs:domain :Dogs ;\n",
            "    rdfs:range :Species .\n",
            "\n",
            ":doAction a owl:ObjectProperty ;\n",
            "    rdfs:domain :Image ;\n",
            "    rdfs:range :Action .\n",
            "\n",
            ":hasAudio a owl:ObjectProperty ;\n",
            "    rdfs:domain :Dogs ;\n",
            "    rdfs:range :Audio .\n",
            "\n",
            ":isAttacking a owl:DatatypeProperty ;\n",
            "    rdfs:domain :Action ;\n",
            "    rdfs:range xsd:boolean .\n",
            "\n",
            ":isBarking a owl:DatatypeProperty ;\n",
            "    rdfs:domain :Audio ;\n",
            "    rdfs:range xsd:boolean .\n",
            "\n",
            ":isPresented a owl:ObjectProperty ;\n",
            "    rdfs:domain :Dogs ;\n",
            "    rdfs:range :Image .\n",
            "\n",
            ":isSitting a owl:DatatypeProperty ;\n",
            "    rdfs:domain :Action ;\n",
            "    rdfs:range xsd:boolean .\n",
            "\n",
            ":isStanding a owl:DatatypeProperty ;\n",
            "    rdfs:domain :Action ;\n",
            "    rdfs:range xsd:boolean .\n",
            "\n",
            ":isWhinning a owl:DatatypeProperty ;\n",
            "    rdfs:domain :Audio ;\n",
            "    rdfs:range xsd:boolean .\n",
            "\n",
            ":Audio a owl:Class .\n",
            "\n",
            ":Dogs a owl:Class .\n",
            "\n",
            ":Image a owl:Class .\n",
            "\n",
            ":Action a owl:Class .\n",
            "\n",
            ":Species a owl:Class .\n",
            "\n",
            "\n"
          ]
        }
      ]
    },
    {
      "cell_type": "code",
      "source": [
        "URI = 'http://www.semanticweb.org/ivanlyschev/ontologies/2024/8/dogs/'\n",
        "NS = Namespace(URI)"
      ],
      "metadata": {
        "id": "-k5d9pHNULQ3"
      },
      "execution_count": 42,
      "outputs": []
    },
    {
      "cell_type": "code",
      "source": [
        "# Classes\n",
        "dogs_class = NS.Dogs\n",
        "audio_class = NS.Audio\n",
        "action_class = NS.Action\n",
        "species_class = NS.Species\n",
        "image_class = NS.Image\n",
        "\n",
        "# Species SubClasses\n",
        "species_classes = {\n",
        "    \"corgi\": NS.Corgi,\n",
        "    \"doberman\": NS.Doberman,\n",
        "    \"labrador\": NS.Labrador,\n",
        "    \"pitbull\": NS.Pitbull,\n",
        "    \"rottweiler\": NS.Rottweiler,\n",
        "    \"shepherd\": NS.Shepherd\n",
        "}\n",
        "\n",
        "# Object and Data Properties\n",
        "description_prop = NS.Description\n",
        "belongs_to_species_prop = NS.belongsToSpecies\n",
        "do_action_prop = NS.doAction\n",
        "is_presented_prop = NS.isPresented\n",
        "has_audio_prop = NS.hasAudio\n",
        "is_carrying_prop = NS.isCarrying\n",
        "is_attacking_prop = NS.isAttacking\n",
        "is_standing_prop = NS.isStanding\n",
        "is_sitting_prop = NS.isSitting\n",
        "name_ru_prop = NS.nameRu\n",
        "file_name_prop = NS.fileName"
      ],
      "metadata": {
        "id": "Uy5FlAIfV3jP"
      },
      "execution_count": 43,
      "outputs": []
    },
    {
      "cell_type": "code",
      "source": [
        "import pandas as pd\n"
      ],
      "metadata": {
        "id": "KpyiG9fXaiEl"
      },
      "execution_count": 44,
      "outputs": []
    },
    {
      "cell_type": "code",
      "source": [
        "# Загрузка данных из dogs.csv\n",
        "data_df = pd.read_csv(path + \"/dogs.csv\", delimiter=';')\n",
        "for index, row in data_df.iterrows():\n",
        "    dogs_instance_uri = URIRef(URI + row['classname'].replace(' ', '_'))\n",
        "    species_class_uri = species_classes.get(row['classname'])\n",
        "\n",
        "    # Добавление собаки\n",
        "    graph.add((dogs_instance_uri, RDF.type, dogs_class))\n",
        "    graph.add((dogs_instance_uri, belongs_to_species_prop, Literal(row['classname'])))\n",
        "    graph.add((dogs_instance_uri, name_ru_prop, Literal(row['name (ru)'], lang='ru')))\n",
        "\n",
        "    # Добавление описания внешности\n",
        "    image_instance_uri = URIRef(URI + row['classname'].replace(' ', '_') + \"_presented\")\n",
        "    graph.add((image_instance_uri, RDF.type, image_class))\n",
        "    graph.add((image_instance_uri, description_prop, Literal(row['description'])))\n",
        "    graph.add((dogs_instance_uri, is_presented_prop, image_instance_uri))"
      ],
      "metadata": {
        "id": "BbZoJbKkaQ31"
      },
      "execution_count": 45,
      "outputs": []
    },
    {
      "cell_type": "code",
      "source": [
        "# Загрузка данных из dog_action.xlsx\n",
        "actions_df = pd.read_csv(path + \"/dogs_image_to_action.csv\", delimiter=';')\n",
        "for index, row in actions_df.iterrows():\n",
        "    species_name  = row['file'].split('_')[0]\n",
        "    dog_instance_uri = URIRef(URI + species_name)\n",
        "\n",
        "    # Создание действия\n",
        "    action_instance_uri = URIRef(URI + species_name + \"_action\" + str(index))\n",
        "    graph.add((action_instance_uri, RDF.type, action_class))\n",
        "    graph.add((action_instance_uri, is_attacking_prop, Literal(bool(row['isAttacking']))))\n",
        "    graph.add((action_instance_uri, is_sitting_prop, Literal(bool(row['isSitting']))))\n",
        "    graph.add((action_instance_uri, is_standing_prop, Literal(bool(row['isStanding']))))\n",
        "    graph.add((action_instance_uri, file_name_prop, Literal(row['file'])))\n",
        "\n",
        "    # Связывание действия с собакой\n",
        "    graph.add((dog_instance_uri, do_action_prop, action_instance_uri))"
      ],
      "metadata": {
        "id": "lLVdmASiA5qt"
      },
      "execution_count": 46,
      "outputs": []
    },
    {
      "cell_type": "code",
      "source": [
        "from os.path import isfile, join\n",
        "\n",
        "# Добавление данных о голосе из файлов в папке audio\n",
        "audio_files = [f for f in os.listdir(path + \"/audio\") if isfile(join(path + \"/audio\", f))]\n",
        "for audio_file in audio_files:\n",
        "\n",
        "    species_name = os.path.splitext(audio_file)[0].split('_')[0]\n",
        "    dogs_instance_uri = URIRef(URI + species_name)\n",
        "\n",
        "    # Создание записи голоса\n",
        "    audio_instance_uri = URIRef(URI + species_name + \"_audio\")\n",
        "    graph.add((audio_instance_uri, RDF.type, audio_class))\n",
        "    graph.add((dogs_instance_uri, has_audio_prop, audio_instance_uri))"
      ],
      "metadata": {
        "id": "AreRAiaSq4y8"
      },
      "execution_count": 47,
      "outputs": []
    },
    {
      "cell_type": "code",
      "source": [
        "graph.serialize(destination=path+\"/UpdatedDogsOntology.ttl\", format='turtle')"
      ],
      "metadata": {
        "colab": {
          "base_uri": "https://localhost:8080/"
        },
        "id": "6v6u8O3ezPni",
        "outputId": "bb25378c-9a80-4698-f03a-f270bdfac19a"
      },
      "execution_count": 48,
      "outputs": [
        {
          "output_type": "execute_result",
          "data": {
            "text/plain": [
              "<Graph identifier=N98781c9bf48c49b3b2bca70f81326bf0 (<class 'rdflib.graph.Graph'>)>"
            ]
          },
          "metadata": {},
          "execution_count": 48
        }
      ]
    },
    {
      "cell_type": "code",
      "source": [
        "!pip install tabulate\n",
        "from tabulate import tabulate"
      ],
      "metadata": {
        "colab": {
          "base_uri": "https://localhost:8080/"
        },
        "id": "mY9ADcTWzpry",
        "outputId": "29d4095b-4d81-4636-b048-f9c1aa58dc31"
      },
      "execution_count": 49,
      "outputs": [
        {
          "output_type": "stream",
          "name": "stdout",
          "text": [
            "Requirement already satisfied: tabulate in /usr/local/lib/python3.10/dist-packages (0.9.0)\n"
          ]
        }
      ]
    },
    {
      "cell_type": "code",
      "source": [
        "# SPARQL-запрос\n",
        "# Получение всех собак и их описаний\n",
        "query = \"\"\"\n",
        "PREFIX ns: <http://www.semanticweb.org/ivanlyschev/ontologies/2024/8/dogs/>\n",
        "\n",
        "SELECT ?dog ?nameRu ?description WHERE {\n",
        "    ?dog rdf:type ns:Dogs .\n",
        "    ?dog ns:nameRu ?nameRu .\n",
        "    ?dog ns:isPresented ?presented .\n",
        "    ?presented ns:Description ?description .\n",
        "}\n",
        "\"\"\"\n",
        "\n",
        "# Выполнение запроса\n",
        "results = graph.query(query)\n",
        "\n",
        "table = []\n",
        "for row in results:\n",
        "    table.append([str(row.nameRu), str(row.description)])\n",
        "\n",
        "# Использование tabulate для красивого вывода\n",
        "headers = [\"Имя\", \"Описание\"]\n",
        "print(tabulate(table, headers, tablefmt=\"grid\"))"
      ],
      "metadata": {
        "colab": {
          "base_uri": "https://localhost:8080/"
        },
        "id": "7eko3mXV7Pxa",
        "outputId": "849a84c2-807d-4ae8-c8c0-185939675ad1"
      },
      "execution_count": 50,
      "outputs": [
        {
          "output_type": "stream",
          "name": "stdout",
          "text": [
            "+-----------+----------------------------------------------------------------------------------------------------------------------------------------------------------------------------------------------------------------------------------------------------------------------------------------------------------------------------+\n",
            "| Имя       | Описание                                                                                                                                                                                                                                                                                                                   |\n",
            "+===========+============================================================================================================================================================================================================================================================================================================================+\n",
            "| Овчарка   | это умная, преданная и трудолюбивая собака, часто используемая в служебных целях. Она отличается крупным телосложением, отличными охранными и пастушьими качествами. Немецкая овчарка — один из самых популярных представителей породы, известная своим интеллектом и выносливостью.                                       |\n",
            "+-----------+----------------------------------------------------------------------------------------------------------------------------------------------------------------------------------------------------------------------------------------------------------------------------------------------------------------------------+\n",
            "| Доберман  | сильная, мускулистая и элегантная порода, известная своим бесстрашием и лояльностью. Эти собаки обладают высокой скоростью реакции, поэтому часто используются для охраны. Они также невероятно умны и могут стать отличными семейными питомцами при правильном воспитании.                                                |\n",
            "+-----------+----------------------------------------------------------------------------------------------------------------------------------------------------------------------------------------------------------------------------------------------------------------------------------------------------------------------------+\n",
            "| Корги     | коротконогая, но очень живая собака с длинным телом и большими ушами. У корги дружелюбный и любящий характер, они обожают быть в центре внимания и прекрасно подходят для жизни в семье. Известны своим остроумием и весёлым нравом.                                                                                       |\n",
            "+-----------+----------------------------------------------------------------------------------------------------------------------------------------------------------------------------------------------------------------------------------------------------------------------------------------------------------------------------+\n",
            "| Ротвейлер | это крупная и мощная порода, известная своей силой, преданностью и охранными инстинктами. Изначально ротвейлеров разводили для выпаса скота и охраны. Они уверенные в себе, смелые и отлично подходят для служебной работы. При правильной дрессировке ротвейлеры также могут быть спокойными и любящими компаньонами.     |\n",
            "+-----------+----------------------------------------------------------------------------------------------------------------------------------------------------------------------------------------------------------------------------------------------------------------------------------------------------------------------------+\n",
            "| Лабрадор  | дружелюбная, энергичная и очень умная порода, часто используемая как собака-поводырь, в поисково-спасательных операциях или в качестве семейного питомца. Лабрадоры известны своей любовью к воде и добродушным характером, что делает их одной из самых популярных пород в мире. Они ласковы и стремятся угодить хозяину. |\n",
            "+-----------+----------------------------------------------------------------------------------------------------------------------------------------------------------------------------------------------------------------------------------------------------------------------------------------------------------------------------+\n",
            "| Питбуль   | это мускулистая, атлетичная порода с сильной волей и смелым характером. Несмотря на свой суровый внешний вид, питбули известны своей нежностью и преданностью своим семьям. Им требуется правильная социализация и дрессировка, чтобы развить их лучшие качества, и при этом они могут быть нежными и любящими спутниками. |\n",
            "+-----------+----------------------------------------------------------------------------------------------------------------------------------------------------------------------------------------------------------------------------------------------------------------------------------------------------------------------------+\n"
          ]
        }
      ]
    },
    {
      "cell_type": "code",
      "source": [
        "# Получение всех изображений собак\n",
        "query = \"\"\"\n",
        "PREFIX ns: <http://www.semanticweb.org/ivanlyschev/ontologies/2024/8/dogs/>\n",
        "\n",
        "SELECT ?file ?isAttacking ?isSitting ?isStanding WHERE {\n",
        "    ?action rdf:type ns:Action .\n",
        "    ?action ns:fileName ?file .\n",
        "    OPTIONAL { ?action ns:isAttacking ?isAttacking . }\n",
        "    OPTIONAL { ?action ns:isSitting ?isSitting . }\n",
        "    OPTIONAL { ?action ns:isStanding ?isStanding . }\n",
        "}\n",
        "\"\"\"\n",
        "\n",
        "# Выполнение запроса\n",
        "results = graph.query(query)\n",
        "\n",
        "table = []\n",
        "for row in results:\n",
        "    table.append([str(row.file), str(row.isAttacking), str(row.isSitting), str(row.isStanding)])\n",
        "\n",
        "# tabulate для красивого вывода\n",
        "headers = [\"File\", \"IsAttacking\", \"Is Sitting\", \"Is Standing\"]\n",
        "print(tabulate(table, headers, tablefmt=\"grid\"))"
      ],
      "metadata": {
        "colab": {
          "base_uri": "https://localhost:8080/"
        },
        "id": "YBmxbyZZ_TKj",
        "outputId": "e00f9291-01c8-436d-ead6-f04e82bc46ef"
      },
      "execution_count": 51,
      "outputs": [
        {
          "output_type": "stream",
          "name": "stdout",
          "text": [
            "+-------------------+---------------+--------------+---------------+\n",
            "| File              | IsAttacking   | Is Sitting   | Is Standing   |\n",
            "+===================+===============+==============+===============+\n",
            "| doberman_1.png    | true          | false        | false         |\n",
            "+-------------------+---------------+--------------+---------------+\n",
            "| doberman_2.webp   | false         | true         | false         |\n",
            "+-------------------+---------------+--------------+---------------+\n",
            "| doberman_3.jpg    | false         | false        | true          |\n",
            "+-------------------+---------------+--------------+---------------+\n",
            "| corgi_1.webp      | true          | false        | false         |\n",
            "+-------------------+---------------+--------------+---------------+\n",
            "| corgi_2.jpg       | false         | true         | false         |\n",
            "+-------------------+---------------+--------------+---------------+\n",
            "| corgi_3.jpg       | false         | false        | true          |\n",
            "+-------------------+---------------+--------------+---------------+\n",
            "| labrador_1.jpg    | true          | false        | false         |\n",
            "+-------------------+---------------+--------------+---------------+\n",
            "| labrador_2.jpg    | false         | true         | false         |\n",
            "+-------------------+---------------+--------------+---------------+\n",
            "| labrador_3.jpg    | false         | false        | true          |\n",
            "+-------------------+---------------+--------------+---------------+\n",
            "| shepherd_1.jpg    | true          | false        | false         |\n",
            "+-------------------+---------------+--------------+---------------+\n",
            "| shepherd_2.jpg    | false         | true         | false         |\n",
            "+-------------------+---------------+--------------+---------------+\n",
            "| shepherd_3.jpg    | false         | false        | true          |\n",
            "+-------------------+---------------+--------------+---------------+\n",
            "| pitbull_1.wepb    | true          | false        | false         |\n",
            "+-------------------+---------------+--------------+---------------+\n",
            "| pitbull_2.jpg     | false         | true         | false         |\n",
            "+-------------------+---------------+--------------+---------------+\n",
            "| pitbull_3.wepb    | false         | false        | true          |\n",
            "+-------------------+---------------+--------------+---------------+\n",
            "| rottweiler_1.webp | true          | false        | false         |\n",
            "+-------------------+---------------+--------------+---------------+\n",
            "| rottweiler_2.jpeg | false         | true         | false         |\n",
            "+-------------------+---------------+--------------+---------------+\n",
            "| rottweiler_3.jpg  | false         | false        | true          |\n",
            "+-------------------+---------------+--------------+---------------+\n"
          ]
        }
      ]
    },
    {
      "cell_type": "code",
      "source": [
        "# Получение всех собак с породой\n",
        "query = \"\"\"\n",
        "PREFIX ns: <http://www.semanticweb.org/ivanlyschev/ontologies/2024/8/dogs/>\n",
        "\n",
        "SELECT ?dog ?nameRu ?species WHERE {\n",
        "    ?dog rdf:type ns:Dogs .\n",
        "    ?dog ns:nameRu ?nameRu .\n",
        "    ?dog ns:belongsToSpecies ?species .\n",
        "}\n",
        "\"\"\"\n",
        "\n",
        "# Выполнение запроса\n",
        "results = graph.query(query)\n",
        "\n",
        "table = []\n",
        "for row in results:\n",
        "    table.append([str(row.nameRu), str(row.species)])\n",
        "\n",
        "# Использование tabulate для красивого вывода\n",
        "headers = [\"Name Ru\", \"Species\"]\n",
        "print(tabulate(table, headers, tablefmt=\"grid\"))"
      ],
      "metadata": {
        "colab": {
          "base_uri": "https://localhost:8080/"
        },
        "id": "w8MOAb_SbI08",
        "outputId": "8eccbedf-e239-4d9b-b9a0-f8d3357750b7"
      },
      "execution_count": 70,
      "outputs": [
        {
          "output_type": "stream",
          "name": "stdout",
          "text": [
            "+-----------+------------+\n",
            "| Name Ru   | Species    |\n",
            "+===========+============+\n",
            "| Овчарка   | Shepherd   |\n",
            "+-----------+------------+\n",
            "| Доберман  | Doberman   |\n",
            "+-----------+------------+\n",
            "| Корги     | Corgi      |\n",
            "+-----------+------------+\n",
            "| Ротвейлер | Rottweiler |\n",
            "+-----------+------------+\n",
            "| Лабрадор  | Labrador   |\n",
            "+-----------+------------+\n",
            "| Питбуль   | PitBull    |\n",
            "+-----------+------------+\n"
          ]
        }
      ]
    }
  ]
}